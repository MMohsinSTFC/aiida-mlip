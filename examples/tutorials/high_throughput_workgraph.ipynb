{
 "cells": [
  {
   "cell_type": "markdown",
   "metadata": {
    "tags": []
   },
   "source": [
    "# High throughput calculations"
   ]
  },
  {
   "cell_type": "markdown",
   "metadata": {},
   "source": [
    "## Singlepoint"
   ]
  },
  {
   "cell_type": "code",
   "execution_count": 1,
   "metadata": {},
   "outputs": [
    {
     "data": {
      "text/plain": [
       "Profile<uuid='468a9d4d0812492ba52462f2aca53e23' name='presto'>"
      ]
     },
     "execution_count": 1,
     "metadata": {},
     "output_type": "execute_result"
    }
   ],
   "source": [
    "from aiida import load_profile\n",
    "load_profile()"
   ]
  },
  {
   "cell_type": "markdown",
   "metadata": {
    "id": "YxOTQEg9uGnN"
   },
   "source": [
    "We need to choose a model and architecture to be used for the calculation and save it as ModelData type, a specific data type of this plugin.\n",
    "In this example we use MACE with a model that we download from this URL: \"https://github.com/stfc/janus-core/raw/main/tests/models/mace_mp_small.model\", and we save the file in the cache folder (default=\"~/.cache/mlips/\"):\n"
   ]
  },
  {
   "cell_type": "code",
   "execution_count": 2,
   "metadata": {
    "id": "3iGSzzNithOk"
   },
   "outputs": [],
   "source": [
    "from aiida_mlip.data.model import ModelData\n",
    "uri = \"https://github.com/stfc/janus-core/raw/main/tests/models/mace_mp_small.model\"\n",
    "model = ModelData.from_uri(uri, architecture=\"mace_mp\", cache_dir=\"mlips\")"
   ]
  },
  {
   "cell_type": "markdown",
   "metadata": {
    "id": "Cf28b-C1uM_I"
   },
   "source": [
    "If we already have the model saved in some folder we can save it as:"
   ]
  },
  {
   "cell_type": "code",
   "execution_count": 3,
   "metadata": {
    "id": "sqoVIB2guSKM"
   },
   "outputs": [],
   "source": [
    "# model = ModelData.from_local(\"/path/to/model\", architecture=\"mace\")"
   ]
  },
  {
   "cell_type": "markdown",
   "metadata": {
    "id": "xvEMrU5zuVn_"
   },
   "source": [
    "Another parameter that we need to define as AiiDA type is the code. Assuming the code is saved as `janus` in the `localhost` computer, the code info that are needed can be loaded as follow:\n"
   ]
  },
  {
   "cell_type": "code",
   "execution_count": 4,
   "metadata": {
    "id": "mH5E3MtPtyj-"
   },
   "outputs": [],
   "source": [
    "from aiida.orm import load_code\n",
    "code = load_code(\"janus@localhost\")"
   ]
  },
  {
   "cell_type": "markdown",
   "metadata": {
    "id": "u-nJa_viuZMv"
   },
   "source": [
    "Inputs should include the model, code, metadata, and any other keyword arguments expected by the calculation we are running:"
   ]
  },
  {
   "cell_type": "code",
   "execution_count": 5,
   "metadata": {
    "id": "_XkQgKPMtyhf"
   },
   "outputs": [],
   "source": [
    "inputs = {\n",
    "    \"model\": model,\n",
    "    \"metadata\": {\"options\": {\"resources\": {\"num_machines\": 1}}},\n",
    "    \"code\": code,\n",
    "    \"properties\": \"energy\",\n",
    "}"
   ]
  },
  {
   "cell_type": "markdown",
   "metadata": {},
   "source": [
    "We must also choose the calculation to perform:"
   ]
  },
  {
   "cell_type": "code",
   "execution_count": 6,
   "metadata": {
    "id": "XOaSjxT8tyek"
   },
   "outputs": [],
   "source": [
    "from aiida.plugins import CalculationFactory\n",
    "SinglepointCalc = CalculationFactory(\"mlip.sp\")"
   ]
  },
  {
   "cell_type": "markdown",
   "metadata": {},
   "source": [
    "Then we get create our WorkGraph. This requires setting the calculation to be performed, the folder containing the files run the calculations on, inputs expected by the calculation, and the key to access the final structure from the calculations:"
   ]
  },
  {
   "cell_type": "code",
   "execution_count": 7,
   "metadata": {},
   "outputs": [],
   "source": [
    "from pathlib import Path\n",
    "\n",
    "from aiida_mlip.workflows.ht_workgraph import get_ht_workgraph\n",
    "\n",
    "wg = get_ht_workgraph(\n",
    "    calc=SinglepointCalc,\n",
    "    folder=Path(\"/home/mtr46585/aiida-mlip/tests/workflows/structures/\"),\n",
    "    calc_inputs=inputs,\n",
    "    final_struct_key=\"xyz_output\",\n",
    ")"
   ]
  },
  {
   "cell_type": "code",
   "execution_count": null,
   "metadata": {},
   "outputs": [],
   "source": [
    "from aiida_mlip.workflows.ht_workgraph import aggregate_task_output\n",
    "\n",
    "wg = aggregate_task_output()"
   ]
  },
  {
   "cell_type": "code",
   "execution_count": 8,
   "metadata": {},
   "outputs": [
    {
     "data": {
      "application/vnd.jupyter.widget-view+json": {
       "model_id": "5fff26f6851f4faf9282b0da7c82c06d",
       "version_major": 2,
       "version_minor": 1
      },
      "text/plain": [
       "NodeGraphWidget(settings={'minimap': True}, style={'width': '90%', 'height': '600px'}, value={'name': 'ht_calc…"
      ]
     },
     "execution_count": 8,
     "metadata": {},
     "output_type": "execute_result"
    }
   ],
   "source": [
    "wg"
   ]
  },
  {
   "cell_type": "markdown",
   "metadata": {},
   "source": [
    "Now we can run the calculations:"
   ]
  },
  {
   "cell_type": "code",
   "execution_count": 9,
   "metadata": {},
   "outputs": [
    {
     "name": "stderr",
     "output_type": "stream",
     "text": [
      "07/01/2025 11:00:30 AM <46813> aiida.broker.rabbitmq: [WARNING] RabbitMQ v3.12.1 is not supported and will cause unexpected problems!\n",
      "07/01/2025 11:00:30 AM <46813> aiida.broker.rabbitmq: [WARNING] It can cause long-running workflows to crash and jobs to be submitted multiple times.\n",
      "07/01/2025 11:00:30 AM <46813> aiida.broker.rabbitmq: [WARNING] See https://github.com/aiidateam/aiida-core/wiki/RabbitMQ-version-to-use for details.\n",
      "07/01/2025 11:00:31 AM <46813> aiida.orm.nodes.process.workflow.workchain.WorkChainNode: [REPORT] [898|WorkGraphEngine|continue_workgraph]: tasks ready to run: ht_calc\n"
     ]
    },
    {
     "name": "stdout",
     "output_type": "stream",
     "text": [
      "defining outputnode\n",
      "calc_H2O\n",
      "{'structs.H2O': 'xyz_output'}\n",
      "calc_methane\n",
      "{'structs.methane': 'xyz_output'}\n"
     ]
    },
    {
     "name": "stderr",
     "output_type": "stream",
     "text": [
      "07/01/2025 11:00:32 AM <46813> aiida.orm.nodes.process.workflow.workchain.WorkChainNode: [REPORT] [898|WorkGraphEngine|on_wait]: Process status: Waiting for child processes: 901\n",
      "07/01/2025 11:00:30 AM <46813> aiida.orm.nodes.process.workflow.workchain.WorkChainNode: [REPORT] [901|WorkGraphEngine|continue_workgraph]: tasks ready to run: calc_H2O,calc_methane\n",
      "07/01/2025 11:00:31 AM <46813> aiida.orm.nodes.process.workflow.workchain.WorkChainNode: [REPORT] [901|WorkGraphEngine|on_wait]: Process status: Waiting for child processes: 905, 909\n",
      "07/01/2025 11:00:49 AM <46813> aiida.orm.nodes.process.workflow.workchain.WorkChainNode: [REPORT] [901|WorkGraphEngine|update_task_state]: Task: calc_H2O, type: CALCJOB, finished.\n",
      "07/01/2025 11:00:49 AM <46813> aiida.orm.nodes.process.workflow.workchain.WorkChainNode: [REPORT] [901|WorkGraphEngine|update_task_state]: Task: calc_methane, type: CALCJOB, finished.\n",
      "07/01/2025 11:00:49 AM <46813> aiida.orm.nodes.process.workflow.workchain.WorkChainNode: [REPORT] [901|WorkGraphEngine|continue_workgraph]: tasks ready to run: \n",
      "07/01/2025 11:00:49 AM <46813> aiida.orm.nodes.process.workflow.workchain.WorkChainNode: [REPORT] [901|WorkGraphEngine|finalize]: Finalize workgraph.\n",
      "07/01/2025 11:00:50 AM <46813> aiida.orm.nodes.process.workflow.workchain.WorkChainNode: [REPORT] [898|WorkGraphEngine|update_task_state]: Task: ht_calc, type: graph_builder, finished.\n",
      "07/01/2025 11:00:50 AM <46813> aiida.orm.nodes.process.workflow.workchain.WorkChainNode: [REPORT] [898|WorkGraphEngine|continue_workgraph]: tasks ready to run: \n",
      "07/01/2025 11:00:50 AM <46813> aiida.orm.nodes.process.workflow.workchain.WorkChainNode: [REPORT] [898|WorkGraphEngine|finalize]: Finalize workgraph.\n"
     ]
    }
   ],
   "source": [
    "wg.run()"
   ]
  },
  {
   "cell_type": "code",
   "execution_count": null,
   "metadata": {},
   "outputs": [
    {
     "data": {
      "application/vnd.jupyter.widget-view+json": {
       "model_id": "762dacd6854041a6b9efa508f5e10b59",
       "version_major": 2,
       "version_minor": 1
      },
      "text/plain": [
       "NodeGraphWidget(positions={'build_ht_calc': [30, 30]}, settings={'minmap': False}, style={'width': '80%', 'hei…"
      ]
     },
     "execution_count": 27,
     "metadata": {},
     "output_type": "execute_result"
    }
   ],
   "source": [
    "wg.tasks.ht_calc.inputs"
   ]
  },
  {
   "cell_type": "markdown",
   "metadata": {},
   "source": [
    "The full graph can be visualised:"
   ]
  },
  {
   "cell_type": "code",
   "execution_count": 12,
   "metadata": {},
   "outputs": [
    {
     "data": {
      "image/svg+xml": [
       "<?xml version=\"1.0\" encoding=\"UTF-8\" standalone=\"no\"?>\n",
       "<!DOCTYPE svg PUBLIC \"-//W3C//DTD SVG 1.1//EN\"\n",
       " \"http://www.w3.org/Graphics/SVG/1.1/DTD/svg11.dtd\">\n",
       "<!-- Generated by graphviz version 2.43.0 (0)\n",
       " -->\n",
       "<!-- Title: %3 Pages: 1 -->\n",
       "<svg width=\"2560pt\" height=\"582pt\"\n",
       " viewBox=\"0.00 0.00 2560.14 582.39\" xmlns=\"http://www.w3.org/2000/svg\" xmlns:xlink=\"http://www.w3.org/1999/xlink\">\n",
       "<g id=\"graph0\" class=\"graph\" transform=\"scale(1 1) rotate(0) translate(4 578.39)\">\n",
       "<title>%3</title>\n",
       "<polygon fill=\"white\" stroke=\"transparent\" points=\"-4,4 -4,-578.39 2556.14,-578.39 2556.14,4 -4,4\"/>\n",
       "<!-- N898 -->\n",
       "<g id=\"node1\" class=\"node\">\n",
       "<title>N898</title>\n",
       "<ellipse fill=\"#8cd499\" stroke=\"red\" stroke-width=\"6\" cx=\"1299.94\" cy=\"-417.17\" rx=\"185.94\" ry=\"37.45\"/>\n",
       "<text text-anchor=\"middle\" x=\"1299.94\" y=\"-428.47\" font-family=\"Times,serif\" font-size=\"14.00\">WorkGraph&lt;ht_calculation&gt; (898)</text>\n",
       "<text text-anchor=\"middle\" x=\"1299.94\" y=\"-413.47\" font-family=\"Times,serif\" font-size=\"14.00\">State: finished</text>\n",
       "<text text-anchor=\"middle\" x=\"1299.94\" y=\"-398.47\" font-family=\"Times,serif\" font-size=\"14.00\">Exit Code: 0</text>\n",
       "</g>\n",
       "<!-- N901 -->\n",
       "<g id=\"node4\" class=\"node\">\n",
       "<title>N901</title>\n",
       "<ellipse fill=\"#8cd499\" stroke=\"black\" stroke-width=\"0\" cx=\"1299.94\" cy=\"-276.22\" rx=\"150.73\" ry=\"37.45\"/>\n",
       "<text text-anchor=\"middle\" x=\"1299.94\" y=\"-287.52\" font-family=\"Times,serif\" font-size=\"14.00\">WorkGraph&lt;ht_calc&gt; (901)</text>\n",
       "<text text-anchor=\"middle\" x=\"1299.94\" y=\"-272.52\" font-family=\"Times,serif\" font-size=\"14.00\">State: finished</text>\n",
       "<text text-anchor=\"middle\" x=\"1299.94\" y=\"-257.52\" font-family=\"Times,serif\" font-size=\"14.00\">Exit Code: 0</text>\n",
       "</g>\n",
       "<!-- N898&#45;&gt;N901 -->\n",
       "<g id=\"edge4\" class=\"edge\">\n",
       "<title>N898&#45;&gt;N901</title>\n",
       "<path fill=\"none\" stroke=\"#000000\" stroke-dasharray=\"1,5\" d=\"M1299.94,-379.66C1299.94,-362.64 1299.94,-342.19 1299.94,-324.05\"/>\n",
       "<polygon fill=\"#000000\" stroke=\"#000000\" points=\"1303.44,-323.96 1299.94,-313.96 1296.44,-323.96 1303.44,-323.96\"/>\n",
       "<text text-anchor=\"middle\" x=\"1345.94\" y=\"-350.49\" font-family=\"Times,serif\" font-size=\"14.00\">CALL_WORK</text>\n",
       "<text text-anchor=\"middle\" x=\"1345.94\" y=\"-335.49\" font-family=\"Times,serif\" font-size=\"14.00\">ht_calc</text>\n",
       "</g>\n",
       "<!-- N1 -->\n",
       "<g id=\"node2\" class=\"node\">\n",
       "<title>N1</title>\n",
       "<ellipse fill=\"#8cd499\" stroke=\"black\" stroke-width=\"0\" cx=\"977.94\" cy=\"-547.52\" rx=\"98.08\" ry=\"26.74\"/>\n",
       "<text text-anchor=\"middle\" x=\"977.94\" y=\"-551.32\" font-family=\"Times,serif\" font-size=\"14.00\">InstalledCode (1)</text>\n",
       "<text text-anchor=\"middle\" x=\"977.94\" y=\"-536.32\" font-family=\"Times,serif\" font-size=\"14.00\">janus@localhost</text>\n",
       "</g>\n",
       "<!-- N1&#45;&gt;N898 -->\n",
       "<g id=\"edge1\" class=\"edge\">\n",
       "<title>N1&#45;&gt;N898</title>\n",
       "<path fill=\"none\" stroke=\"#000000\" stroke-dasharray=\"5,2\" d=\"M970.73,-520.72C968.01,-505.04 967.85,-485.6 978.94,-472.65 997.79,-450.63 1053.05,-437.51 1112.51,-429.7\"/>\n",
       "<polygon fill=\"#000000\" stroke=\"#000000\" points=\"1112.99,-433.16 1122.48,-428.44 1112.12,-426.22 1112.99,-433.16\"/>\n",
       "<text text-anchor=\"middle\" x=\"1289.94\" y=\"-491.45\" font-family=\"Times,serif\" font-size=\"14.00\">INPUT_WORK</text>\n",
       "<text text-anchor=\"middle\" x=\"1289.94\" y=\"-476.45\" font-family=\"Times,serif\" font-size=\"14.00\">workgraph_data__tasks__ht_calc__inputs__sockets__calc_inputs__property__value__code</text>\n",
       "</g>\n",
       "<!-- N2 -->\n",
       "<g id=\"node3\" class=\"node\">\n",
       "<title>N2</title>\n",
       "<ellipse fill=\"#8cd499\" stroke=\"black\" stroke-width=\"0\" cx=\"1622.94\" cy=\"-547.52\" rx=\"77.19\" ry=\"18\"/>\n",
       "<text text-anchor=\"middle\" x=\"1622.94\" y=\"-543.82\" font-family=\"Times,serif\" font-size=\"14.00\">ModelData (2)</text>\n",
       "</g>\n",
       "<!-- N2&#45;&gt;N898 -->\n",
       "<g id=\"edge2\" class=\"edge\">\n",
       "<title>N2&#45;&gt;N898</title>\n",
       "<path fill=\"none\" stroke=\"#000000\" stroke-dasharray=\"5,2\" d=\"M1622.74,-529.49C1621.56,-512.53 1617,-487.02 1600.94,-472.65 1581.34,-455.1 1531.82,-442.97 1478.48,-434.7\"/>\n",
       "<polygon fill=\"#000000\" stroke=\"#000000\" points=\"1478.89,-431.22 1468.48,-433.2 1477.85,-438.15 1478.89,-431.22\"/>\n",
       "<text text-anchor=\"middle\" x=\"1934.44\" y=\"-491.45\" font-family=\"Times,serif\" font-size=\"14.00\">INPUT_WORK</text>\n",
       "<text text-anchor=\"middle\" x=\"1934.44\" y=\"-476.45\" font-family=\"Times,serif\" font-size=\"14.00\">workgraph_data__tasks__ht_calc__inputs__sockets__calc_inputs__property__value__model</text>\n",
       "</g>\n",
       "<!-- N905 -->\n",
       "<g id=\"node5\" class=\"node\">\n",
       "<title>N905</title>\n",
       "<polygon fill=\"#de707f\" stroke=\"black\" stroke-width=\"0\" points=\"848.94,-172.74 708.94,-172.74 708.94,-119.74 848.94,-119.74 848.94,-172.74\"/>\n",
       "<text text-anchor=\"middle\" x=\"778.94\" y=\"-157.54\" font-family=\"Times,serif\" font-size=\"14.00\">Singlepoint (905)</text>\n",
       "<text text-anchor=\"middle\" x=\"778.94\" y=\"-142.54\" font-family=\"Times,serif\" font-size=\"14.00\">State: finished</text>\n",
       "<text text-anchor=\"middle\" x=\"778.94\" y=\"-127.54\" font-family=\"Times,serif\" font-size=\"14.00\">Exit Code: 0</text>\n",
       "</g>\n",
       "<!-- N901&#45;&gt;N905 -->\n",
       "<g id=\"edge11\" class=\"edge\">\n",
       "<title>N901&#45;&gt;N905</title>\n",
       "<path fill=\"none\" stroke=\"#000000\" stroke-dasharray=\"1,5\" d=\"M1194.51,-249.32C1095.35,-224.96 949.05,-189.03 859.1,-166.93\"/>\n",
       "<polygon fill=\"#000000\" stroke=\"#000000\" points=\"859.77,-163.49 849.23,-164.5 858.1,-170.29 859.77,-163.49\"/>\n",
       "<text text-anchor=\"middle\" x=\"1113.44\" y=\"-209.54\" font-family=\"Times,serif\" font-size=\"14.00\">CALL_CALC</text>\n",
       "<text text-anchor=\"middle\" x=\"1113.44\" y=\"-194.54\" font-family=\"Times,serif\" font-size=\"14.00\">calc_H2O</text>\n",
       "</g>\n",
       "<!-- N909 -->\n",
       "<g id=\"node6\" class=\"node\">\n",
       "<title>N909</title>\n",
       "<polygon fill=\"#de707f\" stroke=\"black\" stroke-width=\"0\" points=\"1890.94,-172.74 1750.94,-172.74 1750.94,-119.74 1890.94,-119.74 1890.94,-172.74\"/>\n",
       "<text text-anchor=\"middle\" x=\"1820.94\" y=\"-157.54\" font-family=\"Times,serif\" font-size=\"14.00\">Singlepoint (909)</text>\n",
       "<text text-anchor=\"middle\" x=\"1820.94\" y=\"-142.54\" font-family=\"Times,serif\" font-size=\"14.00\">State: finished</text>\n",
       "<text text-anchor=\"middle\" x=\"1820.94\" y=\"-127.54\" font-family=\"Times,serif\" font-size=\"14.00\">Exit Code: 0</text>\n",
       "</g>\n",
       "<!-- N901&#45;&gt;N909 -->\n",
       "<g id=\"edge3\" class=\"edge\">\n",
       "<title>N901&#45;&gt;N909</title>\n",
       "<path fill=\"none\" stroke=\"#000000\" stroke-dasharray=\"1,5\" d=\"M1405.38,-249.32C1504.54,-224.96 1650.83,-189.03 1740.79,-166.93\"/>\n",
       "<polygon fill=\"#000000\" stroke=\"#000000\" points=\"1741.79,-170.29 1750.66,-164.5 1740.12,-163.49 1741.79,-170.29\"/>\n",
       "<text text-anchor=\"middle\" x=\"1685.44\" y=\"-209.54\" font-family=\"Times,serif\" font-size=\"14.00\">CALL_CALC</text>\n",
       "<text text-anchor=\"middle\" x=\"1685.44\" y=\"-194.54\" font-family=\"Times,serif\" font-size=\"14.00\">calc_methane</text>\n",
       "</g>\n",
       "<!-- N910 -->\n",
       "<g id=\"node7\" class=\"node\">\n",
       "<title>N910</title>\n",
       "<ellipse fill=\"#8cd499\" stroke=\"black\" stroke-width=\"0\" cx=\"103.94\" cy=\"-26.87\" rx=\"103.89\" ry=\"26.74\"/>\n",
       "<text text-anchor=\"middle\" x=\"103.94\" y=\"-30.67\" font-family=\"Times,serif\" font-size=\"14.00\">RemoteData (910)</text>\n",
       "<text text-anchor=\"middle\" x=\"103.94\" y=\"-15.67\" font-family=\"Times,serif\" font-size=\"14.00\">@localhost</text>\n",
       "</g>\n",
       "<!-- N905&#45;&gt;N910 -->\n",
       "<g id=\"edge9\" class=\"edge\">\n",
       "<title>N905&#45;&gt;N910</title>\n",
       "<path fill=\"none\" stroke=\"#000000\" d=\"M708.91,-142.33C623.12,-137.82 473.68,-126.87 347.94,-101.74 287.65,-89.69 220.93,-68.96 172.53,-52.52\"/>\n",
       "<polygon fill=\"#000000\" stroke=\"#000000\" points=\"173.39,-49.12 162.79,-49.19 171.12,-55.74 173.39,-49.12\"/>\n",
       "<text text-anchor=\"middle\" x=\"397.94\" y=\"-90.54\" font-family=\"Times,serif\" font-size=\"14.00\">CREATE</text>\n",
       "<text text-anchor=\"middle\" x=\"397.94\" y=\"-75.54\" font-family=\"Times,serif\" font-size=\"14.00\">remote_folder</text>\n",
       "</g>\n",
       "<!-- N912 -->\n",
       "<g id=\"node9\" class=\"node\">\n",
       "<title>N912</title>\n",
       "<ellipse fill=\"#8cd499\" stroke=\"black\" stroke-width=\"0\" cx=\"315.94\" cy=\"-26.87\" rx=\"89.88\" ry=\"18\"/>\n",
       "<text text-anchor=\"middle\" x=\"315.94\" y=\"-23.17\" font-family=\"Times,serif\" font-size=\"14.00\">FolderData (912)</text>\n",
       "</g>\n",
       "<!-- N905&#45;&gt;N912 -->\n",
       "<g id=\"edge15\" class=\"edge\">\n",
       "<title>N905&#45;&gt;N912</title>\n",
       "<path fill=\"none\" stroke=\"#000000\" d=\"M708.87,-133.33C665.21,-125.45 608.02,-114.28 557.94,-101.74 492.37,-85.32 418.18,-61.95 369.43,-45.91\"/>\n",
       "<polygon fill=\"#000000\" stroke=\"#000000\" points=\"370.32,-42.52 359.73,-42.71 368.12,-49.17 370.32,-42.52\"/>\n",
       "<text text-anchor=\"middle\" x=\"591.44\" y=\"-90.54\" font-family=\"Times,serif\" font-size=\"14.00\">CREATE</text>\n",
       "<text text-anchor=\"middle\" x=\"591.44\" y=\"-75.54\" font-family=\"Times,serif\" font-size=\"14.00\">retrieved</text>\n",
       "</g>\n",
       "<!-- N914 -->\n",
       "<g id=\"node11\" class=\"node\">\n",
       "<title>N914</title>\n",
       "<ellipse fill=\"#8cd499\" stroke=\"black\" stroke-width=\"0\" cx=\"535.94\" cy=\"-26.87\" rx=\"112.36\" ry=\"26.74\"/>\n",
       "<text text-anchor=\"middle\" x=\"535.94\" y=\"-30.67\" font-family=\"Times,serif\" font-size=\"14.00\">SinglefileData (914)</text>\n",
       "<text text-anchor=\"middle\" x=\"535.94\" y=\"-15.67\" font-family=\"Times,serif\" font-size=\"14.00\">aiida.log</text>\n",
       "</g>\n",
       "<!-- N905&#45;&gt;N914 -->\n",
       "<g id=\"edge5\" class=\"edge\">\n",
       "<title>N905&#45;&gt;N914</title>\n",
       "<path fill=\"none\" stroke=\"#000000\" d=\"M725.92,-119.63C686.79,-100.73 633.6,-75.04 593.45,-55.65\"/>\n",
       "<polygon fill=\"#000000\" stroke=\"#000000\" points=\"594.85,-52.43 584.32,-51.24 591.8,-58.74 594.85,-52.43\"/>\n",
       "<text text-anchor=\"middle\" x=\"724.94\" y=\"-90.54\" font-family=\"Times,serif\" font-size=\"14.00\">CREATE</text>\n",
       "<text text-anchor=\"middle\" x=\"724.94\" y=\"-75.54\" font-family=\"Times,serif\" font-size=\"14.00\">log_output</text>\n",
       "</g>\n",
       "<!-- N915 -->\n",
       "<g id=\"node12\" class=\"node\">\n",
       "<title>N915</title>\n",
       "<ellipse fill=\"#8cd499\" stroke=\"black\" stroke-width=\"0\" cx=\"778.94\" cy=\"-26.87\" rx=\"112.36\" ry=\"26.74\"/>\n",
       "<text text-anchor=\"middle\" x=\"778.94\" y=\"-30.67\" font-family=\"Times,serif\" font-size=\"14.00\">SinglefileData (915)</text>\n",
       "<text text-anchor=\"middle\" x=\"778.94\" y=\"-15.67\" font-family=\"Times,serif\" font-size=\"14.00\">aiida&#45;stdout.txt</text>\n",
       "</g>\n",
       "<!-- N905&#45;&gt;N915 -->\n",
       "<g id=\"edge14\" class=\"edge\">\n",
       "<title>N905&#45;&gt;N915</title>\n",
       "<path fill=\"none\" stroke=\"#000000\" d=\"M778.94,-119.48C778.94,-103.24 778.94,-82.01 778.94,-64.09\"/>\n",
       "<polygon fill=\"#000000\" stroke=\"#000000\" points=\"782.44,-63.97 778.94,-53.97 775.44,-63.97 782.44,-63.97\"/>\n",
       "<text text-anchor=\"middle\" x=\"817.44\" y=\"-90.54\" font-family=\"Times,serif\" font-size=\"14.00\">CREATE</text>\n",
       "<text text-anchor=\"middle\" x=\"817.44\" y=\"-75.54\" font-family=\"Times,serif\" font-size=\"14.00\">std_output</text>\n",
       "</g>\n",
       "<!-- N916 -->\n",
       "<g id=\"node13\" class=\"node\">\n",
       "<title>N916</title>\n",
       "<ellipse fill=\"#8cd499\" stroke=\"black\" stroke-width=\"0\" cx=\"1021.94\" cy=\"-26.87\" rx=\"112.36\" ry=\"26.74\"/>\n",
       "<text text-anchor=\"middle\" x=\"1021.94\" y=\"-30.67\" font-family=\"Times,serif\" font-size=\"14.00\">SinglefileData (916)</text>\n",
       "<text text-anchor=\"middle\" x=\"1021.94\" y=\"-15.67\" font-family=\"Times,serif\" font-size=\"14.00\">aiida&#45;results.xyz</text>\n",
       "</g>\n",
       "<!-- N905&#45;&gt;N916 -->\n",
       "<g id=\"edge6\" class=\"edge\">\n",
       "<title>N905&#45;&gt;N916</title>\n",
       "<path fill=\"none\" stroke=\"#000000\" d=\"M831.97,-119.63C871.1,-100.73 924.29,-75.04 964.44,-55.65\"/>\n",
       "<polygon fill=\"#000000\" stroke=\"#000000\" points=\"966.09,-58.74 973.57,-51.24 963.04,-52.43 966.09,-58.74\"/>\n",
       "<text text-anchor=\"middle\" x=\"969.44\" y=\"-90.54\" font-family=\"Times,serif\" font-size=\"14.00\">CREATE</text>\n",
       "<text text-anchor=\"middle\" x=\"969.44\" y=\"-75.54\" font-family=\"Times,serif\" font-size=\"14.00\">xyz_output</text>\n",
       "</g>\n",
       "<!-- N917 -->\n",
       "<g id=\"node14\" class=\"node\">\n",
       "<title>N917</title>\n",
       "<ellipse fill=\"#8cd499\" stroke=\"black\" stroke-width=\"0\" cx=\"1209.94\" cy=\"-26.87\" rx=\"57.39\" ry=\"18\"/>\n",
       "<text text-anchor=\"middle\" x=\"1209.94\" y=\"-23.17\" font-family=\"Times,serif\" font-size=\"14.00\">Dict (917)</text>\n",
       "</g>\n",
       "<!-- N905&#45;&gt;N917 -->\n",
       "<g id=\"edge17\" class=\"edge\">\n",
       "<title>N905&#45;&gt;N917</title>\n",
       "<path fill=\"none\" stroke=\"#000000\" d=\"M849.02,-135.4C895.88,-128.05 958.67,-116.69 1012.94,-101.74 1072.32,-85.39 1085.33,-75.5 1142.94,-53.74 1150.41,-50.92 1158.33,-47.9 1166.01,-44.94\"/>\n",
       "<polygon fill=\"#000000\" stroke=\"#000000\" points=\"1167.48,-48.12 1175.55,-41.26 1164.96,-41.59 1167.48,-48.12\"/>\n",
       "<text text-anchor=\"middle\" x=\"1138.94\" y=\"-90.54\" font-family=\"Times,serif\" font-size=\"14.00\">CREATE</text>\n",
       "<text text-anchor=\"middle\" x=\"1138.94\" y=\"-75.54\" font-family=\"Times,serif\" font-size=\"14.00\">results_dict</text>\n",
       "</g>\n",
       "<!-- N911 -->\n",
       "<g id=\"node8\" class=\"node\">\n",
       "<title>N911</title>\n",
       "<ellipse fill=\"#8cd499\" stroke=\"black\" stroke-width=\"0\" cx=\"1388.94\" cy=\"-26.87\" rx=\"103.89\" ry=\"26.74\"/>\n",
       "<text text-anchor=\"middle\" x=\"1388.94\" y=\"-30.67\" font-family=\"Times,serif\" font-size=\"14.00\">RemoteData (911)</text>\n",
       "<text text-anchor=\"middle\" x=\"1388.94\" y=\"-15.67\" font-family=\"Times,serif\" font-size=\"14.00\">@localhost</text>\n",
       "</g>\n",
       "<!-- N909&#45;&gt;N911 -->\n",
       "<g id=\"edge13\" class=\"edge\">\n",
       "<title>N909&#45;&gt;N911</title>\n",
       "<path fill=\"none\" stroke=\"#000000\" d=\"M1750.8,-136.18C1702.29,-129.05 1636.53,-117.63 1579.94,-101.74 1535.17,-89.16 1486.28,-70.15 1449.18,-54.57\"/>\n",
       "<polygon fill=\"#000000\" stroke=\"#000000\" points=\"1450.1,-51.16 1439.52,-50.48 1447.37,-57.6 1450.1,-51.16\"/>\n",
       "<text text-anchor=\"middle\" x=\"1629.94\" y=\"-90.54\" font-family=\"Times,serif\" font-size=\"14.00\">CREATE</text>\n",
       "<text text-anchor=\"middle\" x=\"1629.94\" y=\"-75.54\" font-family=\"Times,serif\" font-size=\"14.00\">remote_folder</text>\n",
       "</g>\n",
       "<!-- N913 -->\n",
       "<g id=\"node10\" class=\"node\">\n",
       "<title>N913</title>\n",
       "<ellipse fill=\"#8cd499\" stroke=\"black\" stroke-width=\"0\" cx=\"1600.94\" cy=\"-26.87\" rx=\"89.88\" ry=\"18\"/>\n",
       "<text text-anchor=\"middle\" x=\"1600.94\" y=\"-23.17\" font-family=\"Times,serif\" font-size=\"14.00\">FolderData (913)</text>\n",
       "</g>\n",
       "<!-- N909&#45;&gt;N913 -->\n",
       "<g id=\"edge8\" class=\"edge\">\n",
       "<title>N909&#45;&gt;N913</title>\n",
       "<path fill=\"none\" stroke=\"#000000\" d=\"M1772.94,-119.63C1733.08,-98.36 1677.09,-68.49 1639.95,-48.68\"/>\n",
       "<polygon fill=\"#000000\" stroke=\"#000000\" points=\"1641.41,-45.49 1630.94,-43.87 1638.11,-51.67 1641.41,-45.49\"/>\n",
       "<text text-anchor=\"middle\" x=\"1770.44\" y=\"-90.54\" font-family=\"Times,serif\" font-size=\"14.00\">CREATE</text>\n",
       "<text text-anchor=\"middle\" x=\"1770.44\" y=\"-75.54\" font-family=\"Times,serif\" font-size=\"14.00\">retrieved</text>\n",
       "</g>\n",
       "<!-- N918 -->\n",
       "<g id=\"node15\" class=\"node\">\n",
       "<title>N918</title>\n",
       "<ellipse fill=\"#8cd499\" stroke=\"black\" stroke-width=\"0\" cx=\"1820.94\" cy=\"-26.87\" rx=\"112.36\" ry=\"26.74\"/>\n",
       "<text text-anchor=\"middle\" x=\"1820.94\" y=\"-30.67\" font-family=\"Times,serif\" font-size=\"14.00\">SinglefileData (918)</text>\n",
       "<text text-anchor=\"middle\" x=\"1820.94\" y=\"-15.67\" font-family=\"Times,serif\" font-size=\"14.00\">aiida.log</text>\n",
       "</g>\n",
       "<!-- N909&#45;&gt;N918 -->\n",
       "<g id=\"edge16\" class=\"edge\">\n",
       "<title>N909&#45;&gt;N918</title>\n",
       "<path fill=\"none\" stroke=\"#000000\" d=\"M1820.94,-119.48C1820.94,-103.24 1820.94,-82.01 1820.94,-64.09\"/>\n",
       "<polygon fill=\"#000000\" stroke=\"#000000\" points=\"1824.44,-63.97 1820.94,-53.97 1817.44,-63.97 1824.44,-63.97\"/>\n",
       "<text text-anchor=\"middle\" x=\"1858.94\" y=\"-90.54\" font-family=\"Times,serif\" font-size=\"14.00\">CREATE</text>\n",
       "<text text-anchor=\"middle\" x=\"1858.94\" y=\"-75.54\" font-family=\"Times,serif\" font-size=\"14.00\">log_output</text>\n",
       "</g>\n",
       "<!-- N919 -->\n",
       "<g id=\"node16\" class=\"node\">\n",
       "<title>N919</title>\n",
       "<ellipse fill=\"#8cd499\" stroke=\"black\" stroke-width=\"0\" cx=\"2063.94\" cy=\"-26.87\" rx=\"112.36\" ry=\"26.74\"/>\n",
       "<text text-anchor=\"middle\" x=\"2063.94\" y=\"-30.67\" font-family=\"Times,serif\" font-size=\"14.00\">SinglefileData (919)</text>\n",
       "<text text-anchor=\"middle\" x=\"2063.94\" y=\"-15.67\" font-family=\"Times,serif\" font-size=\"14.00\">aiida&#45;stdout.txt</text>\n",
       "</g>\n",
       "<!-- N909&#45;&gt;N919 -->\n",
       "<g id=\"edge7\" class=\"edge\">\n",
       "<title>N909&#45;&gt;N919</title>\n",
       "<path fill=\"none\" stroke=\"#000000\" d=\"M1873.97,-119.63C1913.1,-100.73 1966.29,-75.04 2006.44,-55.65\"/>\n",
       "<polygon fill=\"#000000\" stroke=\"#000000\" points=\"2008.09,-58.74 2015.57,-51.24 2005.04,-52.43 2008.09,-58.74\"/>\n",
       "<text text-anchor=\"middle\" x=\"2009.44\" y=\"-90.54\" font-family=\"Times,serif\" font-size=\"14.00\">CREATE</text>\n",
       "<text text-anchor=\"middle\" x=\"2009.44\" y=\"-75.54\" font-family=\"Times,serif\" font-size=\"14.00\">std_output</text>\n",
       "</g>\n",
       "<!-- N920 -->\n",
       "<g id=\"node17\" class=\"node\">\n",
       "<title>N920</title>\n",
       "<ellipse fill=\"#8cd499\" stroke=\"black\" stroke-width=\"0\" cx=\"2306.94\" cy=\"-26.87\" rx=\"112.36\" ry=\"26.74\"/>\n",
       "<text text-anchor=\"middle\" x=\"2306.94\" y=\"-30.67\" font-family=\"Times,serif\" font-size=\"14.00\">SinglefileData (920)</text>\n",
       "<text text-anchor=\"middle\" x=\"2306.94\" y=\"-15.67\" font-family=\"Times,serif\" font-size=\"14.00\">aiida&#45;results.xyz</text>\n",
       "</g>\n",
       "<!-- N909&#45;&gt;N920 -->\n",
       "<g id=\"edge10\" class=\"edge\">\n",
       "<title>N909&#45;&gt;N920</title>\n",
       "<path fill=\"none\" stroke=\"#000000\" d=\"M1891.06,-133.84C1937.05,-125.92 1998.35,-114.52 2051.94,-101.74 2112.89,-87.21 2181.01,-67.28 2231.51,-51.79\"/>\n",
       "<polygon fill=\"#000000\" stroke=\"#000000\" points=\"2232.84,-55.04 2241.36,-48.75 2230.77,-48.35 2232.84,-55.04\"/>\n",
       "<text text-anchor=\"middle\" x=\"2203.44\" y=\"-90.54\" font-family=\"Times,serif\" font-size=\"14.00\">CREATE</text>\n",
       "<text text-anchor=\"middle\" x=\"2203.44\" y=\"-75.54\" font-family=\"Times,serif\" font-size=\"14.00\">xyz_output</text>\n",
       "</g>\n",
       "<!-- N921 -->\n",
       "<g id=\"node18\" class=\"node\">\n",
       "<title>N921</title>\n",
       "<ellipse fill=\"#8cd499\" stroke=\"black\" stroke-width=\"0\" cx=\"2494.94\" cy=\"-26.87\" rx=\"57.39\" ry=\"18\"/>\n",
       "<text text-anchor=\"middle\" x=\"2494.94\" y=\"-23.17\" font-family=\"Times,serif\" font-size=\"14.00\">Dict (921)</text>\n",
       "</g>\n",
       "<!-- N909&#45;&gt;N921 -->\n",
       "<g id=\"edge12\" class=\"edge\">\n",
       "<title>N909&#45;&gt;N921</title>\n",
       "<path fill=\"none\" stroke=\"#000000\" d=\"M1891.15,-141.47C1975.99,-136.13 2122.8,-124.39 2246.94,-101.74 2328.82,-86.8 2348.79,-79.43 2427.94,-53.74 2435.79,-51.19 2444.05,-48.24 2451.99,-45.25\"/>\n",
       "<polygon fill=\"#000000\" stroke=\"#000000\" points=\"2453.38,-48.47 2461.46,-41.62 2450.87,-41.93 2453.38,-48.47\"/>\n",
       "<text text-anchor=\"middle\" x=\"2410.94\" y=\"-90.54\" font-family=\"Times,serif\" font-size=\"14.00\">CREATE</text>\n",
       "<text text-anchor=\"middle\" x=\"2410.94\" y=\"-75.54\" font-family=\"Times,serif\" font-size=\"14.00\">results_dict</text>\n",
       "</g>\n",
       "</g>\n",
       "</svg>\n"
      ],
      "text/plain": [
       "<graphviz.graphs.Digraph at 0x7f289212c1a0>"
      ]
     },
     "execution_count": 12,
     "metadata": {},
     "output_type": "execute_result"
    }
   ],
   "source": [
    "from aiida_workgraph.utils import generate_node_graph\n",
    "\n",
    "generate_node_graph(wg.pk)"
   ]
  },
  {
   "cell_type": "markdown",
   "metadata": {},
   "source": [
    "If using `wg.submit()` instead of `wg.run()`, calculations may still running, even when setting `wait=True`, due to a timeout. The WorkGraph's state can be updated:"
   ]
  },
  {
   "cell_type": "code",
   "execution_count": 13,
   "metadata": {},
   "outputs": [
    {
     "data": {
      "text/plain": [
       "'FINISHED'"
      ]
     },
     "execution_count": 13,
     "metadata": {},
     "output_type": "execute_result"
    }
   ],
   "source": [
    "wg.update()\n",
    "wg.state"
   ]
  },
  {
   "cell_type": "markdown",
   "metadata": {},
   "source": [
    "The final structures can then be accessed:"
   ]
  },
  {
   "cell_type": "code",
   "execution_count": 18,
   "metadata": {},
   "outputs": [
    {
     "data": {
      "text/plain": [
       "SocketAny(name='final_struct_key', value=xyz_output)"
      ]
     },
     "execution_count": 18,
     "metadata": {},
     "output_type": "execute_result"
    }
   ],
   "source": [
    "wg.tasks.ht_calc.inputs.final_struct_key"
   ]
  },
  {
   "cell_type": "markdown",
   "metadata": {},
   "source": [
    "## Geometry optimisation"
   ]
  },
  {
   "cell_type": "markdown",
   "metadata": {},
   "source": [
    "Similarly, high throughput geometry optimisation can be performed by changing the `calc`:"
   ]
  },
  {
   "cell_type": "code",
   "execution_count": null,
   "metadata": {},
   "outputs": [],
   "source": [
    "from aiida.plugins import CalculationFactory\n",
    "GeomoptCalc = CalculationFactory(\"mlip.opt\")\n",
    "\n",
    "wg = get_ht_workgraph(\n",
    "    calc=GeomoptCalc,\n",
    "    folder=Path(\"../../tests/workflows/structures/\"),\n",
    "    calc_inputs=inputs,\n",
    "    final_struct_key=\"final_structure\",\n",
    ")"
   ]
  },
  {
   "cell_type": "code",
   "execution_count": null,
   "metadata": {},
   "outputs": [],
   "source": [
    "wg.run()"
   ]
  },
  {
   "cell_type": "markdown",
   "metadata": {},
   "source": [
    "The full graph can be visualised:"
   ]
  },
  {
   "cell_type": "code",
   "execution_count": null,
   "metadata": {},
   "outputs": [],
   "source": [
    "from aiida_workgraph.utils import generate_node_graph\n",
    "\n",
    "generate_node_graph(wg.pk)"
   ]
  },
  {
   "cell_type": "markdown",
   "metadata": {},
   "source": [
    "The final structures produced can then be accessed:"
   ]
  },
  {
   "cell_type": "code",
   "execution_count": null,
   "metadata": {},
   "outputs": [],
   "source": [
    "wg.process.outputs.final_structures.H2O"
   ]
  }
 ],
 "metadata": {
  "colab": {
   "private_outputs": true,
   "provenance": []
  },
  "kernelspec": {
   "display_name": ".venv",
   "language": "python",
   "name": "python3"
  },
  "language_info": {
   "codemirror_mode": {
    "name": "ipython",
    "version": 3
   },
   "file_extension": ".py",
   "mimetype": "text/x-python",
   "name": "python",
   "nbconvert_exporter": "python",
   "pygments_lexer": "ipython3",
   "version": "3.12.2"
  }
 },
 "nbformat": 4,
 "nbformat_minor": 4
}
